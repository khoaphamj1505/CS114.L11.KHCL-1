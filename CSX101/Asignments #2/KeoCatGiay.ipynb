{
  "nbformat": 4,
  "nbformat_minor": 0,
  "metadata": {
    "colab": {
      "name": "KeoCatGiay.ipynb",
      "provenance": [],
      "authorship_tag": "ABX9TyOuh7YJM5gOFKlP6DD+qqHn",
      "include_colab_link": true
    },
    "kernelspec": {
      "name": "python3",
      "display_name": "Python 3"
    }
  },
  "cells": [
    {
      "cell_type": "markdown",
      "metadata": {
        "id": "view-in-github",
        "colab_type": "text"
      },
      "source": [
        "<a href=\"https://colab.research.google.com/github/thanhnhan311201/CS114.L11.KHCL/blob/master/KeoCatGiay.ipynb\" target=\"_parent\"><img src=\"https://colab.research.google.com/assets/colab-badge.svg\" alt=\"Open In Colab\"/></a>"
      ]
    },
    {
      "cell_type": "markdown",
      "metadata": {
        "id": "x1qmdfOpQ66c"
      },
      "source": [
        "#Code: Nguyễn Thành Nghĩa\n",
        "#Tên bài: Kéo cắt giấy\n",
        "#Link: https://khmt.uit.edu.vn/laptrinh/csx101/view_problem/2\n",
        "#Ý tưởng: \n",
        "- Quá trình cắt giấy dừng lại khi cạnh nhỏ nhất của tờ giấy nxm bằng 1\n",
        "- Tính tổng các cạnh cắt từ cạnh nhỏ nhất đến khi cạnh đó bằng 1 \n",
        "- Lần cắt của cạnh lớn hơn bắt đầu từ cạnh đó -2 đến khi cắt đúng số lần cạnh nhỏ hơn đã cắt\n"
      ]
    },
    {
      "cell_type": "code",
      "metadata": {
        "id": "LXNqYTorRO3Z"
      },
      "source": [
        "# hàm tính tổng các số từ a đến b\n",
        "def TinhTong_a2b(a,b):\n",
        "\treturn b*(b+1)//2 - a*(a-1)//2\n",
        "\n",
        "[n,m] = input().split()\n",
        "n = int(n)\n",
        "m = int(m)\n",
        "a = min(m,n)\n",
        "b = max(m,n)\n",
        "print(int(TinhTong_a2b(1,a-1)+TinhTong_a2b(b-a,b-2)))"
      ],
      "execution_count": null,
      "outputs": []
    }
  ]
}