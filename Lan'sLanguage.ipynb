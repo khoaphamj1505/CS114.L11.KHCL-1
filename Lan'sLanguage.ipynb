{
  "nbformat": 4,
  "nbformat_minor": 0,
  "metadata": {
    "colab": {
      "name": "Lan'sLanguage.ipynb",
      "provenance": [],
      "collapsed_sections": [],
      "authorship_tag": "ABX9TyMubqjmd2YtedtrL1YjmhQE",
      "include_colab_link": true
    },
    "kernelspec": {
      "name": "python3",
      "display_name": "Python 3"
    }
  },
  "cells": [
    {
      "cell_type": "markdown",
      "metadata": {
        "id": "view-in-github",
        "colab_type": "text"
      },
      "source": [
        "<a href=\"https://colab.research.google.com/github/thanhnhan311201/CS114.L11.KHCL/blob/master/Lan'sLanguage.ipynb\" target=\"_parent\"><img src=\"https://colab.research.google.com/assets/colab-badge.svg\" alt=\"Open In Colab\"/></a>"
      ]
    },
    {
      "cell_type": "markdown",
      "metadata": {
        "id": "OjwwL5QcftVE"
      },
      "source": [
        "#Code: Nguyễn Thành Nghĩa\n",
        "#Tên bài: Lan's Language\n",
        "#Link: https://khmt.uit.edu.vn/laptrinh/csx101/view_problem/3/16\n",
        "#Đề bài:\n",
        "Lan đang học ở một trường ngoại ngữ ở Tp.HCM. Lan rất yêu thích ngôn ngữ, đặc biệt là ngữ pháp. Khi  bước vào năm thứ 3, Lan quyết định tạo ra một ngôn ngữ mới dễ sử dụng nhất có thể đủ để nói chuyện với bạn bè. Ngôn ngữ mới của Lan có tên là Lan's Language và thỏa theo những ngữ pháp sau:\n",
        "\n",
        "- Có 3 loại từ trong Lan's Language: danh từ, động từ và tính từ. Mỗi từ trong Lan's Language thuộc một trong 3 loại từ đó.\n",
        "- Có 2 giới tính: Nam và Nữ. Mỗi từ trong Lan's Language thuộc một trong 2 giới tính đó.\n",
        "- Tính từ nam là những từ kết thúc với -lios và Tính từ nữ là những từ kết thúc với -liala.\n",
        "- Danh từ nam là những từ kết thúc với -etr và  Danh từ nữ là những từ kết thúc với -etra.\n",
        "- Động từ nam là những từ kết thúc với -initis và  Động từ nữ là những từ kết thúc với -inites.\n",
        "- Các từ trong Lan's Language luôn kết thúc bằng 1 trong các đuôi trên.\n",
        "- Các từ mà chỉ có mỗi đuôi như \"lios\", \"liala\", \"etr\"... cũng thuộc Lan's Language.\n",
        "- Không có dấu câu, ngữ pháp chia thì và các dạng biến đổi từ trong Lan's Language.\n",
        "- Một câu trong Lan's Language là một từ hợp lệ (thỏa những tính chất trong Lan's Language) hoặc là một mệnh đề hợp lệ.\n",
        "\n",
        "Một mệnh đề hợp lệ trong Lan's language phải thỏa 2 điều kiện sau:\n",
        "\n",
        "- Những từ trong mệnh đề phải hợp lệ và được sắp xếp theo thứ tự: Tính từ + Danh từ + Động từ. Trong đó: Tính từ có thể có 1 hoặc nhiều hoặc không có nhưng phải đứng trước Danh từ. Chỉ có duy nhất một Danh từ trong câu. Động từ có thể có 1 hoặc nhiều hoặc không có nhưng phải đứng sau Danh từ.\n",
        "- Tất cả các từ trong mệnh đề phải cùng giới tính.\n",
        "\n",
        "Cho một câu gồm một chuỗi các từ, nhiệm vụ của bạn là viết một chương trình kiểm tra xem câu được nhập vào có thỏa mãn những tính chất của Lan's language hay không? \n",
        "\n",
        "**Dữ liệu**:\n",
        "\n",
        "Dòng đầu tiên là một hoặc nhiều từ được viết thường bằng những kí tự Latin. Tổng số kí tự nhập vào không quá \n",
        "10^5\n",
        " (bao gồm cả khoảng trắng).\n",
        "\n",
        "**Kết quả**: \n",
        "\n",
        "Nếu câu nhập vào thỏa mãn những tính chất của Lan's language, xuất YES\n",
        "Ngược lại xuất NO\n",
        "#Ý tưởng:\n",
        "- Duyệt vòng lặp chỉnh sửa lại các từ, chỉ lấy phần đuôi của từ để xử lý\n",
        "- Thực hiện các quy tắc như mô tả của đề bài"
      ]
    },
    {
      "cell_type": "code",
      "metadata": {
        "id": "ZXgUZjtA7Ndm"
      },
      "source": [
        "#sub-function\n",
        "male_word = ('lios','etr','initis')\n",
        "female_word = ('liala','etra','inites')\n",
        "\n",
        "# chỉnh sửa lại từ theo từ điển của Lan, nếu từ không có trong từ điển trả về False\n",
        "def Male(w):\n",
        "  global male_word\n",
        "  if w[-3:] in male_word:\n",
        "    w = w[-3:]\n",
        "  elif w[-4:] in male_word:\n",
        "    w = w[-4:]\n",
        "  elif w[-6:] in male_word:\n",
        "    w = w[-6:]\n",
        "  else:\n",
        "    return False\n",
        "  return w\n",
        "\n",
        "def FeMale(w):\n",
        "  global female_word\n",
        "  if w[-5:] in female_word:\n",
        "    w = w[-5:]\n",
        "  elif w[-4:] in female_word:\n",
        "    w = w[-4:]\n",
        "  elif w[-6:] in female_word:\n",
        "    w = w[-6:]\n",
        "  else:\n",
        "    return False\n",
        "  return w\n",
        "\n",
        "# Kiểm tra vị trí từ trong mệnh đề có hợp lệ hay không\n",
        "def Position(c,sex):\n",
        "  c = c.split(' ')\n",
        "  global female_word, male_word\n",
        "  # Xác định giới tính của mệnh đề\n",
        "  if sex == 'F':\n",
        "    word = female_word\n",
        "  elif sex == 'M':\n",
        "    word = male_word\n",
        "  countN = c.count(word[1])\n",
        "  # Nếu số lượng danh từ trong câu không phải 1 thì trả về False\n",
        "  if countN != 1:\n",
        "    return False\n",
        "  # Xác định vị trí của danh từ trong câu\n",
        "  posN = c.index(word[1])\n",
        "  # Kiểm tra các trường hợp sai của vị trí\n",
        "  for i in range(len(c)):\n",
        "    if i < posN and c[i] != word[0]:\n",
        "      return False\n",
        "    if i > posN and c[i] != word[2]:\n",
        "      return False\n",
        "  return True  \n",
        "\n",
        "# Kiểm tra xem từ trong câu có thuộc về một giới tính hay không\n",
        "def Sex(c):\n",
        "  global male_word, female_word\n",
        "  c = c.split(' ')\n",
        "  countMaleWords = c.count(male_word[0]) + c.count(male_word[1]) + c.count(male_word[2])\n",
        "  if countMaleWords == 0:\n",
        "    return True,'F'\n",
        "  elif countMaleWords == len(c):\n",
        "    return True,'M'\n",
        "  else:\n",
        "    return False\n"
      ],
      "execution_count": null,
      "outputs": []
    },
    {
      "cell_type": "code",
      "metadata": {
        "id": "g96lXmV1dtCj",
        "outputId": "5d70265d-afa9-4b72-e82c-d5e05d8ec19c",
        "colab": {
          "base_uri": "https://localhost:8080/"
        }
      },
      "source": [
        "\n",
        "# Kiểm tra các từ trong câu có đúng ngữ pháp hay không, nếu câu đúng giữ lại phần đuôi của mỗi từ, ngược lại trả về False\n",
        "def Is_Senetence(w):\n",
        "  w = w.split()\n",
        "  for i in range(len(w)):\n",
        "    if Male(w[i]):\n",
        "      w[i] = Male(w[i])\n",
        "    elif FeMale(w[i]):\n",
        "      w[i] = FeMale(w[i])\n",
        "    else:\n",
        "      return False\n",
        "  w = ' '.join(w)\n",
        "  return w\n",
        "# Kiểm tra mệnh đề trong Lan's Language\n",
        "def Clause(c):\n",
        "  if Sex(c)[0] and Position(c,Sex(c)[1]):\n",
        "    return True\n",
        "  return False\n",
        "\n",
        "# MAIN\n",
        "w = input()\n",
        "w = Is_Senetence(w)\n",
        "if w and Clause(w):\n",
        "  print('YES')\n",
        "else:\n",
        "  print('NO')\n",
        "\n",
        "\n"
      ],
      "execution_count": null,
      "outputs": [
        {
          "output_type": "stream",
          "text": [
            ".\n",
            "NO\n"
          ],
          "name": "stdout"
        }
      ]
    }
  ]
}